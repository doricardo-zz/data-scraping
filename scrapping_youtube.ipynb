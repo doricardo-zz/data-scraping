{
  "nbformat": 4,
  "nbformat_minor": 0,
  "metadata": {
    "colab": {
      "name": "scrapping-youtube.ipynb",
      "provenance": []
    },
    "kernelspec": {
      "name": "python3",
      "display_name": "Python 3"
    },
    "language_info": {
      "name": "python"
    }
  },
  "cells": [
    {
      "cell_type": "code",
      "metadata": {
        "colab": {
          "base_uri": "https://localhost:8080/"
        },
        "id": "mIUbScmXkufc",
        "outputId": "5c78013e-a780-4c30-c76a-1d10e6023a19"
      },
      "source": [
        "!pip install pytube"
      ],
      "execution_count": null,
      "outputs": [
        {
          "output_type": "stream",
          "text": [
            "Collecting pytube\n",
            "\u001b[?25l  Downloading https://files.pythonhosted.org/packages/62/3b/087df50860bc4b4f517a83daf78a355fe233b4ef513192565ce1ed20a134/pytube-10.6.1-py3-none-any.whl (42kB)\n",
            "\r\u001b[K     |███████▋                        | 10kB 16.3MB/s eta 0:00:01\r\u001b[K     |███████████████▎                | 20kB 23.3MB/s eta 0:00:01\r\u001b[K     |███████████████████████         | 30kB 14.7MB/s eta 0:00:01\r\u001b[K     |██████████████████████████████▋ | 40kB 15.1MB/s eta 0:00:01\r\u001b[K     |████████████████████████████████| 51kB 3.6MB/s \n",
            "\u001b[?25hInstalling collected packages: pytube\n",
            "Successfully installed pytube-10.6.1\n"
          ],
          "name": "stdout"
        }
      ]
    },
    {
      "cell_type": "code",
      "metadata": {
        "id": "T6MkO_VHkzY5"
      },
      "source": [
        "from pytube import YouTube\n",
        "import pandas as pd"
      ],
      "execution_count": null,
      "outputs": []
    },
    {
      "cell_type": "code",
      "metadata": {
        "colab": {
          "base_uri": "https://localhost:8080/"
        },
        "id": "vvXAq02Rk6E6",
        "outputId": "0e08f3da-26b0-4d0a-aa5d-385cbce1f28f"
      },
      "source": [
        "yt = YouTube(\"https://www.youtube.com/watch?v=6deosZHaqLc\")\n",
        "print(yt.title)"
      ],
      "execution_count": null,
      "outputs": [
        {
          "output_type": "stream",
          "text": [
            "70 | CONHECENDO O VELEIRO KATOOSH 2!!!\n"
          ],
          "name": "stdout"
        }
      ]
    },
    {
      "cell_type": "code",
      "metadata": {
        "colab": {
          "base_uri": "https://localhost:8080/",
          "height": 36
        },
        "id": "tRfmGBlHk991",
        "outputId": "fde57761-d235-4f10-f84b-3ab708f901d3"
      },
      "source": [
        "yt.title"
      ],
      "execution_count": null,
      "outputs": [
        {
          "output_type": "execute_result",
          "data": {
            "application/vnd.google.colaboratory.intrinsic+json": {
              "type": "string"
            },
            "text/plain": [
              "'70 | CONHECENDO O VELEIRO KATOOSH 2!!!'"
            ]
          },
          "metadata": {
            "tags": []
          },
          "execution_count": 17
        }
      ]
    },
    {
      "cell_type": "code",
      "metadata": {
        "id": "OM4mXibHlDqG"
      },
      "source": [
        ""
      ],
      "execution_count": null,
      "outputs": []
    }
  ]
}