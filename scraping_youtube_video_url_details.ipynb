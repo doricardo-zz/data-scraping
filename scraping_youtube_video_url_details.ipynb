{
  "nbformat": 4,
  "nbformat_minor": 0,
  "metadata": {
    "colab": {
      "name": "scraping-youtube-video-url-details.ipynb",
      "provenance": []
    },
    "kernelspec": {
      "name": "python3",
      "display_name": "Python 3"
    },
    "language_info": {
      "name": "python"
    }
  },
  "cells": [
    {
      "cell_type": "code",
      "metadata": {
        "colab": {
          "base_uri": "https://localhost:8080/"
        },
        "id": "mIUbScmXkufc",
        "outputId": "377f6c16-3f9a-42d2-eef5-9d184ced2e12"
      },
      "source": [
        "!pip install pytube"
      ],
      "execution_count": null,
      "outputs": [
        {
          "output_type": "stream",
          "text": [
            "Collecting pytube\n",
            "\u001b[?25l  Downloading https://files.pythonhosted.org/packages/91/96/0cc31cb18fda662a5ae235dff33ad66dfbc94bf46f19e9e22cb1960b3253/pytube-10.7.2-py3-none-any.whl (42kB)\n",
            "\r\u001b[K     |███████▋                        | 10kB 17.6MB/s eta 0:00:01\r\u001b[K     |███████████████▎                | 20kB 19.1MB/s eta 0:00:01\r\u001b[K     |███████████████████████         | 30kB 12.7MB/s eta 0:00:01\r\u001b[K     |██████████████████████████████▌ | 40kB 9.7MB/s eta 0:00:01\r\u001b[K     |████████████████████████████████| 51kB 4.0MB/s \n",
            "\u001b[?25hInstalling collected packages: pytube\n",
            "Successfully installed pytube-10.7.2\n"
          ],
          "name": "stdout"
        }
      ]
    },
    {
      "cell_type": "code",
      "metadata": {
        "id": "T6MkO_VHkzY5"
      },
      "source": [
        "from pytube import YouTube\n",
        "import pandas as pd"
      ],
      "execution_count": null,
      "outputs": []
    },
    {
      "cell_type": "code",
      "metadata": {
        "colab": {
          "base_uri": "https://localhost:8080/"
        },
        "id": "vvXAq02Rk6E6",
        "outputId": "6af65591-fba7-4d25-dcfa-807cd6760174"
      },
      "source": [
        "yt = YouTube(\"https://www.youtube.com/watch?v=6deosZHaqLc\")\n",
        "print(yt.title)"
      ],
      "execution_count": null,
      "outputs": [
        {
          "output_type": "stream",
          "text": [
            "70 | CONHECENDO O VELEIRO KATOOSH 2!!!\n"
          ],
          "name": "stdout"
        }
      ]
    },
    {
      "cell_type": "code",
      "metadata": {
        "id": "t6s17uFpVNCS"
      },
      "source": [
        ""
      ],
      "execution_count": null,
      "outputs": []
    }
  ]
}