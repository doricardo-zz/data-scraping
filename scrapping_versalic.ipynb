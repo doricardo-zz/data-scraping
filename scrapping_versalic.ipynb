{
  "nbformat": 4,
  "nbformat_minor": 0,
  "metadata": {
    "colab": {
      "name": "scrapping-versalic.ipynb",
      "provenance": [],
      "collapsed_sections": []
    },
    "kernelspec": {
      "display_name": "Python 3",
      "name": "python3"
    }
  },
  "cells": [
    {
      "cell_type": "code",
      "metadata": {
        "colab": {
          "base_uri": "https://localhost:8080/"
        },
        "id": "h8sqveSFb9nJ",
        "outputId": "2c71a521-5ab8-40db-a241-a8743af12d62"
      },
      "source": [
        "!pip install bs4\n",
        "!pip install requests\n",
        "!pip install pymongo\n",
        "!pip install dnspython"
      ],
      "execution_count": null,
      "outputs": [
        {
          "output_type": "stream",
          "text": [
            "Requirement already satisfied: bs4 in /usr/local/lib/python3.7/dist-packages (0.0.1)\n",
            "Requirement already satisfied: beautifulsoup4 in /usr/local/lib/python3.7/dist-packages (from bs4) (4.6.3)\n",
            "Requirement already satisfied: requests in /usr/local/lib/python3.7/dist-packages (2.23.0)\n",
            "Requirement already satisfied: chardet<4,>=3.0.2 in /usr/local/lib/python3.7/dist-packages (from requests) (3.0.4)\n",
            "Requirement already satisfied: urllib3!=1.25.0,!=1.25.1,<1.26,>=1.21.1 in /usr/local/lib/python3.7/dist-packages (from requests) (1.24.3)\n",
            "Requirement already satisfied: certifi>=2017.4.17 in /usr/local/lib/python3.7/dist-packages (from requests) (2020.12.5)\n",
            "Requirement already satisfied: idna<3,>=2.5 in /usr/local/lib/python3.7/dist-packages (from requests) (2.10)\n",
            "Requirement already satisfied: pymongo in /usr/local/lib/python3.7/dist-packages (3.11.3)\n",
            "Collecting dnspython\n",
            "\u001b[?25l  Downloading https://files.pythonhosted.org/packages/f5/2d/ae9e172b4e5e72fa4b3cfc2517f38b602cc9ba31355f9669c502b4e9c458/dnspython-2.1.0-py3-none-any.whl (241kB)\n",
            "\u001b[K     |████████████████████████████████| 245kB 6.3MB/s \n",
            "\u001b[?25hInstalling collected packages: dnspython\n",
            "Successfully installed dnspython-2.1.0\n"
          ],
          "name": "stdout"
        }
      ]
    },
    {
      "cell_type": "code",
      "metadata": {
        "id": "X3vpkMhIcA2B"
      },
      "source": [
        "import requests \n",
        "from bs4 import BeautifulSoup\n",
        "import pandas as pd\n",
        "import json\n",
        "from pandas.io.json import json_normalize\n",
        "import os\n",
        "import urllib"
      ],
      "execution_count": null,
      "outputs": []
    },
    {
      "cell_type": "code",
      "metadata": {
        "id": "ISk3Yx8xgt-2"
      },
      "source": [
        "#Predição do encoding do arquivo\n",
        "def predict_encoding(file_path, n_lines=20):\n",
        "    '''Predict a file's encoding using chardet'''\n",
        "    import chardet\n",
        "    with open(file_path, 'rb') as f:\n",
        "        rawdata = b''.join([f.readline() for _ in range(n_lines)])"
      ],
      "execution_count": null,
      "outputs": []
    },
    {
      "cell_type": "code",
      "metadata": {
        "id": "4MQYZQWJicia"
      },
      "source": [
        "df = pd.DataFrame()"
      ],
      "execution_count": null,
      "outputs": []
    },
    {
      "cell_type": "code",
      "metadata": {
        "id": "TBMhQD9of8s1"
      },
      "source": [
        "ano = 10\n",
        "ultima = 9600\n",
        "for pagina in range(0, ultima, 100):\n",
        "  remote_file_name = \"http://api.salic.cultura.gov.br/v1/projetos?sort=PRONAC:asc&ano_projeto={}&offset={}&limit=100&format=csv\".format(ano, pagina)\n",
        "  df_file = os.path.join(\"projetos{}-{}.csv\".format(ano, pagina))\n",
        "  urllib.request.urlretrieve(remote_file_name, df_file) \n",
        "  df_csv = pd.read_csv(df_file,sep=',',encoding=predict_encoding(df_file),error_bad_lines=False)\n",
        "  df = df.append(df_csv) "
      ],
      "execution_count": null,
      "outputs": []
    },
    {
      "cell_type": "code",
      "metadata": {
        "id": "B1ccHm5Y3UfT"
      },
      "source": [
        "df.to_csv(\"arquivo_projetos_cultura_20{}.csv\".format(ano))"
      ],
      "execution_count": null,
      "outputs": []
    },
    {
      "cell_type": "code",
      "metadata": {
        "colab": {
          "base_uri": "https://localhost:8080/"
        },
        "id": "YTFSADNLy7JU",
        "outputId": "2ca0f64e-60ca-4d41-ea3e-0fd0ee22b5ea"
      },
      "source": [
        "df.info()"
      ],
      "execution_count": null,
      "outputs": [
        {
          "output_type": "stream",
          "text": [
            "<class 'pandas.core.frame.DataFrame'>\n",
            "Int64Index: 14152 entries, 0 to 51\n",
            "Data columns (total 32 columns):\n",
            " #   Column                 Non-Null Count  Dtype  \n",
            "---  ------                 --------------  -----  \n",
            " 0   etapa                  6619 non-null   object \n",
            " 1   providencia            14152 non-null  object \n",
            " 2   area                   14152 non-null  object \n",
            " 3   enquadramento          14152 non-null  object \n",
            " 4   objetivos              6623 non-null   object \n",
            " 5   ficha_tecnica          6619 non-null   object \n",
            " 6   situacao               14152 non-null  object \n",
            " 7   outras_fontes          14152 non-null  float64\n",
            " 8   acessibilidade         6621 non-null   object \n",
            " 9   sinopse                6500 non-null   object \n",
            " 10  nome                   14152 non-null  object \n",
            " 11  cgccpf                 14152 non-null  object \n",
            " 12  mecanismo              14152 non-null  object \n",
            " 13  segmento               14152 non-null  object \n",
            " 14  PRONAC                 14152 non-null  object \n",
            " 15  estrategia_execucao    6157 non-null   object \n",
            " 16  valor_aprovado         14152 non-null  object \n",
            " 17  justificativa          6622 non-null   object \n",
            " 18  resumo                 14152 non-null  object \n",
            " 19  valor_solicitado       14152 non-null  object \n",
            " 20  especificacao_tecnica  6414 non-null   object \n",
            " 21  municipio              14151 non-null  object \n",
            " 22  data_termino           6623 non-null   object \n",
            " 23  UF                     14152 non-null  object \n",
            " 24  impacto_ambiental      6495 non-null   object \n",
            " 25  democratizacao         6624 non-null   object \n",
            " 26  valor_projeto          14152 non-null  object \n",
            " 27  proponente             14152 non-null  object \n",
            " 28  ano_projeto            14152 non-null  object \n",
            " 29  data_inicio            6623 non-null   object \n",
            " 30  valor_captado          14152 non-null  float64\n",
            " 31  valor_proposta         14151 non-null  float64\n",
            "dtypes: float64(3), object(29)\n",
            "memory usage: 3.6+ MB\n"
          ],
          "name": "stdout"
        }
      ]
    },
    {
      "cell_type": "code",
      "metadata": {
        "colab": {
          "base_uri": "https://localhost:8080/"
        },
        "id": "uEoZEmeze0Wg",
        "outputId": "c28ea838-4479-447f-b822-4a1ff9e656cc"
      },
      "source": [
        "df[['ano_projeto','valor_captado']].groupby(['ano_projeto']).valor_captado.sum()"
      ],
      "execution_count": null,
      "outputs": [
        {
          "output_type": "execute_result",
          "data": {
            "text/plain": [
              "ano_projeto\n",
              "13            1.214718e+09\n",
              "14            1.259708e+09\n",
              "14            1.300615e+07\n",
              "2014-12-17    3.086320e+05\n",
              "Name: valor_captado, dtype: float64"
            ]
          },
          "metadata": {
            "tags": []
          },
          "execution_count": 103
        }
      ]
    },
    {
      "cell_type": "code",
      "metadata": {
        "colab": {
          "base_uri": "https://localhost:8080/",
          "height": 67
        },
        "id": "jfUawiPyGkWg",
        "outputId": "715e1844-2e86-405f-a5c4-022dbcb2350a"
      },
      "source": [
        "df[df['nome'].str.contains('eichler', na=False)]"
      ],
      "execution_count": null,
      "outputs": [
        {
          "output_type": "execute_result",
          "data": {
            "text/html": [
              "<div>\n",
              "<style scoped>\n",
              "    .dataframe tbody tr th:only-of-type {\n",
              "        vertical-align: middle;\n",
              "    }\n",
              "\n",
              "    .dataframe tbody tr th {\n",
              "        vertical-align: top;\n",
              "    }\n",
              "\n",
              "    .dataframe thead th {\n",
              "        text-align: right;\n",
              "    }\n",
              "</style>\n",
              "<table border=\"1\" class=\"dataframe\">\n",
              "  <thead>\n",
              "    <tr style=\"text-align: right;\">\n",
              "      <th></th>\n",
              "      <th>etapa</th>\n",
              "      <th>providencia</th>\n",
              "      <th>area</th>\n",
              "      <th>enquadramento</th>\n",
              "      <th>objetivos</th>\n",
              "      <th>ficha_tecnica</th>\n",
              "      <th>situacao</th>\n",
              "      <th>outras_fontes</th>\n",
              "      <th>acessibilidade</th>\n",
              "      <th>sinopse</th>\n",
              "      <th>nome</th>\n",
              "      <th>cgccpf</th>\n",
              "      <th>mecanismo</th>\n",
              "      <th>segmento</th>\n",
              "      <th>PRONAC</th>\n",
              "      <th>estrategia_execucao</th>\n",
              "      <th>valor_aprovado</th>\n",
              "      <th>justificativa</th>\n",
              "      <th>resumo</th>\n",
              "      <th>valor_solicitado</th>\n",
              "      <th>especificacao_tecnica</th>\n",
              "      <th>municipio</th>\n",
              "      <th>data_termino</th>\n",
              "      <th>UF</th>\n",
              "      <th>impacto_ambiental</th>\n",
              "      <th>democratizacao</th>\n",
              "      <th>valor_projeto</th>\n",
              "      <th>proponente</th>\n",
              "      <th>ano_projeto</th>\n",
              "      <th>data_inicio</th>\n",
              "      <th>valor_captado</th>\n",
              "      <th>valor_proposta</th>\n",
              "    </tr>\n",
              "  </thead>\n",
              "  <tbody>\n",
              "  </tbody>\n",
              "</table>\n",
              "</div>"
            ],
            "text/plain": [
              "Empty DataFrame\n",
              "Columns: [etapa, providencia, area, enquadramento, objetivos, ficha_tecnica, situacao, outras_fontes, acessibilidade, sinopse, nome, cgccpf, mecanismo, segmento, PRONAC, estrategia_execucao, valor_aprovado, justificativa, resumo, valor_solicitado, especificacao_tecnica, municipio, data_termino, UF, impacto_ambiental, democratizacao, valor_projeto, proponente, ano_projeto, data_inicio, valor_captado, valor_proposta]\n",
              "Index: []"
            ]
          },
          "metadata": {
            "tags": []
          },
          "execution_count": 86
        }
      ]
    },
    {
      "cell_type": "code",
      "metadata": {
        "colab": {
          "base_uri": "https://localhost:8080/"
        },
        "id": "iNVeHpsazPvr",
        "outputId": "22920571-ac3a-44dd-c609-550f1f83097e"
      },
      "source": [
        "df.groupby(['impacto_ambiental']).PRONAC.count()"
      ],
      "execution_count": null,
      "outputs": [
        {
          "output_type": "execute_result",
          "data": {
            "text/plain": [
              "impacto_ambiental\n",
              "(Não se aplica)                                                                                                                                                                                             1\n",
              "(não se aplica)                                                                                                                                                                                             2\n",
              "* IMPACTO AMBIENTAL No intuito de minimizar o impacto ambiental negativo, iremos plantar 50 mudas de árvores no Banhado. O Banhado é o cartão postal de São José dos Campos. Com uma imensa área ve         1\n",
              "* Não se trata de evento ao ar livre. Os eventos aqui previstos serão realizados em teatros fechados.                                                                                                       1\n",
              "* Panfletos incentivando a organização de lixos e educação para com o mesmo. * lixeiras serão colocadas nos locais abertos. * momento de reflexão para com nosso meio ambiente. * Músicas e apresentaçõe    1\n",
              "                                                                                                                                                                                                           ..\n",
              "• Este projeto não tem impacto ambiental negativo.                                                                                                                                                          1\n",
              "• Iremos utilizar as ferramentas da internet ao máximo para minimizar a impressão de material publicitário. Daremos preferência para a impressão de banners de lona que podem ser utilizados em vário       1\n",
              "• Proponente se compromete a utilizar material de divulgação impressos em papel de origem certificada. • Haverá coleta seletiva do lixo.                                                                    1\n",
              "• Realizar pequenos eventos com música, teatro e dança, varal de poesia e fotos etc. nas praças escolhidas (praças pequenas, esquecidas que não tem ativiadedaes culturais) do bairro de Campina e Ci       1\n",
              "• Respeitar os horários de início e término das apresentações, pré-definidos pela Secretaria de Meio Ambiente;• Manter a sonorização nos níveis recomendados pela legislação, para evitar incômodo à com    1\n",
              "Name: PRONAC, Length: 3994, dtype: int64"
            ]
          },
          "metadata": {
            "tags": []
          },
          "execution_count": 96
        }
      ]
    },
    {
      "cell_type": "code",
      "metadata": {
        "colab": {
          "base_uri": "https://localhost:8080/"
        },
        "id": "1E5OgxLpzzxX",
        "outputId": "caf5d26c-5580-4356-cc04-961110f37fcf"
      },
      "source": [
        "df.area.value_counts(normalize=True) * 100"
      ],
      "execution_count": null,
      "outputs": [
        {
          "output_type": "execute_result",
          "data": {
            "text/plain": [
              "Artes Integradas       53.200961\n",
              "Artes Cênicas          16.026003\n",
              "Música                 12.832109\n",
              "Humanidades             7.730356\n",
              "Artes Visuais           4.925099\n",
              "Audiovisual             4.275014\n",
              "Patrimônio Cultural     1.010458\n",
              "Name: area, dtype: float64"
            ]
          },
          "metadata": {
            "tags": []
          },
          "execution_count": 17
        }
      ]
    },
    {
      "cell_type": "code",
      "metadata": {
        "colab": {
          "base_uri": "https://localhost:8080/"
        },
        "id": "o_C5feUu049_",
        "outputId": "1a7a94a2-a3b2-4243-ecb8-487ea9a575c4"
      },
      "source": [
        "df.segmento.value_counts(normalize=True) * 100"
      ],
      "execution_count": null,
      "outputs": [
        {
          "output_type": "execute_result",
          "data": {
            "text/plain": [
              "Cultura Popular                          53.200961\n",
              "Teatro                                   11.885246\n",
              "Música Instrumental                       5.243075\n",
              "Música Popular Cantada                    5.137083\n",
              "Exposição de Artes Visuais                4.126625\n",
              "                                           ...    \n",
              "Doações de Acervos de Artes Visuais       0.007066\n",
              "Distribuição Cinematográfica              0.007066\n",
              "1412064                                   0.007066\n",
              "Restauração de Acervos                    0.007066\n",
              "Restauração de Patrimônio Museológico     0.007066\n",
              "Name: segmento, Length: 63, dtype: float64"
            ]
          },
          "metadata": {
            "tags": []
          },
          "execution_count": 18
        }
      ]
    },
    {
      "cell_type": "code",
      "metadata": {
        "colab": {
          "base_uri": "https://localhost:8080/"
        },
        "id": "DmAfmWuw0Fi3",
        "outputId": "4b7b289e-8862-41bd-ff01-02d292a41a8f"
      },
      "source": [
        "df.groupby(['situacao']).PRONAC.count().sort_values(ascending=False).head(30)"
      ],
      "execution_count": null,
      "outputs": [
        {
          "output_type": "execute_result",
          "data": {
            "text/plain": [
              "situacao\n",
              "Edital - Encaminhado a Comissão de Avaliação                                                      2327\n",
              "Arquivado                                                                                         1947\n",
              "Arquivado - por excesso de prazo sem captação                                                     1875\n",
              "Projeto  aceito no edital                                                                         1548\n",
              "Apresentou prestação de contas                                                                    1396\n",
              "Edital - Avaliado pela Comissão                                                                   1145\n",
              "Projeto de edital - encaminhado para avaliação                                                     938\n",
              "Arquivado - solicitação de arquivamento, de projeto de incentivo fiscal, feito pelo proponente     474\n",
              "Arquivado - não atendimento à diligência técnica                                                   459\n",
              "Prestação de Contas Aprovada                                                                       417\n",
              "Projeto encerrado por excesso de prazo sem captação                                                348\n",
              "Projeto não selecionado                                                                            299\n",
              "Aguarda análise financeira                                                                          91\n",
              "Arquivado - solicitação de desistência do proponente                                                87\n",
              "Indeferido - não enquadramento nos objetivos e fins da Lei 8313/91 ou do Decreto 5761/06            84\n",
              "Prestação de contas de convênio aprovada                                                            84\n",
              "Prestação de contas aprovada com ressalva formal e sem prejuízo                                     51\n",
              "Prestação de contas desaprovada com notificação de cobrança                                         46\n",
              "Enviado p/Pagamento                                                                                 45\n",
              "Análise Documental                                                                                  45\n",
              "Indeferido                                                                                          42\n",
              "Projeto não executado por insuficiência de captação de recursos                                     36\n",
              "Indeferido - 50% de corte valor solicitado                                                          32\n",
              "Indeferido - não atendimento à diligência                                                           31\n",
              "CADIN - Inadimplente                                                                                27\n",
              "Instaurada Tomada de Contas Especial                                                                23\n",
              "Arquivado - captação/execução encerradas                                                            18\n",
              "Análise de resposta de diligência - Objeto                                                          16\n",
              "Solicitação de arquivamento feito pelo proponente                                                   16\n",
              "Análise de resposta de diligência                                                                   15\n",
              "Name: PRONAC, dtype: int64"
            ]
          },
          "metadata": {
            "tags": []
          },
          "execution_count": 19
        }
      ]
    },
    {
      "cell_type": "code",
      "metadata": {
        "id": "b6X6c1AM2Paq"
      },
      "source": [
        "df_prop = pd.DataFrame()"
      ],
      "execution_count": null,
      "outputs": []
    },
    {
      "cell_type": "code",
      "metadata": {
        "id": "XpqCWw84cDj5"
      },
      "source": [
        "#proponentes\n",
        "ultima = 48100\n",
        "for pagina in range(0, ultima, 100):\n",
        "  remote_file_name = \"http://api.salic.cultura.gov.br/v1/proponentes?&offset={}&limit=100&format=csv\".format(pagina)\n",
        "  df_file = os.path.join(\"proponentes-{}.csv\".format(pagina))\n",
        "  urllib.request.urlretrieve(remote_file_name, df_file) \n",
        "  df_csv = pd.read_csv(df_file,sep=',',encoding=predict_encoding(df_file),error_bad_lines=False)\n",
        "  df_prop = df_prop.append(df_csv) "
      ],
      "execution_count": null,
      "outputs": []
    },
    {
      "cell_type": "code",
      "metadata": {
        "id": "nGhDA0TiQGnk"
      },
      "source": [
        "df_prop.to_csv(\"arquivo_proponentes_cultura.csv\")"
      ],
      "execution_count": null,
      "outputs": []
    },
    {
      "cell_type": "code",
      "metadata": {
        "id": "nn5dWBw1WrcY"
      },
      "source": [
        "pd.options.display.max_colwidth = 0"
      ],
      "execution_count": null,
      "outputs": []
    },
    {
      "cell_type": "code",
      "metadata": {
        "colab": {
          "base_uri": "https://localhost:8080/"
        },
        "id": "73E07J4CXFio",
        "outputId": "0b22b036-6bbc-44cb-857e-65ea31c2f11c"
      },
      "source": [
        "df_prop.info()"
      ],
      "execution_count": null,
      "outputs": [
        {
          "output_type": "stream",
          "text": [
            "<class 'pandas.core.frame.DataFrame'>\n",
            "Int64Index: 48072 entries, 0 to 71\n",
            "Data columns (total 7 columns):\n",
            " #   Column         Non-Null Count  Dtype  \n",
            "---  ------         --------------  -----  \n",
            " 0   nome           48046 non-null  object \n",
            " 1   cgccpf         48072 non-null  object \n",
            " 2   tipo_pessoa    48072 non-null  object \n",
            " 3   responsavel    47254 non-null  object \n",
            " 4   UF             48072 non-null  object \n",
            " 5   total_captado  48072 non-null  float64\n",
            " 6   municipio      48057 non-null  object \n",
            "dtypes: float64(1), object(6)\n",
            "memory usage: 2.9+ MB\n"
          ],
          "name": "stdout"
        }
      ]
    },
    {
      "cell_type": "code",
      "metadata": {
        "colab": {
          "base_uri": "https://localhost:8080/",
          "height": 137
        },
        "id": "zQcGBbYmDXFO",
        "outputId": "7d1c6ea3-b897-4406-d05f-68d208d64b6e"
      },
      "source": [
        "df_prop[df_prop['cgccpf'] == '***467288**']"
      ],
      "execution_count": null,
      "outputs": [
        {
          "output_type": "execute_result",
          "data": {
            "text/html": [
              "<div>\n",
              "<style scoped>\n",
              "    .dataframe tbody tr th:only-of-type {\n",
              "        vertical-align: middle;\n",
              "    }\n",
              "\n",
              "    .dataframe tbody tr th {\n",
              "        vertical-align: top;\n",
              "    }\n",
              "\n",
              "    .dataframe thead th {\n",
              "        text-align: right;\n",
              "    }\n",
              "</style>\n",
              "<table border=\"1\" class=\"dataframe\">\n",
              "  <thead>\n",
              "    <tr style=\"text-align: right;\">\n",
              "      <th></th>\n",
              "      <th>nome</th>\n",
              "      <th>cgccpf</th>\n",
              "      <th>tipo_pessoa</th>\n",
              "      <th>responsavel</th>\n",
              "      <th>UF</th>\n",
              "      <th>total_captado</th>\n",
              "      <th>municipio</th>\n",
              "    </tr>\n",
              "  </thead>\n",
              "  <tbody>\n",
              "    <tr>\n",
              "      <th>50</th>\n",
              "      <td>Miguel Antônio Testa Barella</td>\n",
              "      <td>***467288**</td>\n",
              "      <td>fisica</td>\n",
              "      <td>Miguel Antônio Testa Barella</td>\n",
              "      <td>SP</td>\n",
              "      <td>0.0</td>\n",
              "      <td>São Paulo</td>\n",
              "    </tr>\n",
              "    <tr>\n",
              "      <th>90</th>\n",
              "      <td>Cia da Lua de Tetro Infantil</td>\n",
              "      <td>***467288**</td>\n",
              "      <td>fisica</td>\n",
              "      <td>fabiana consiglio de noronha aguiar</td>\n",
              "      <td>SP</td>\n",
              "      <td>0.0</td>\n",
              "      <td>Santos</td>\n",
              "    </tr>\n",
              "    <tr>\n",
              "      <th>11</th>\n",
              "      <td>Peticia Carvalho de Moraes</td>\n",
              "      <td>***467288**</td>\n",
              "      <td>fisica</td>\n",
              "      <td>Peticia Carvalho de Moraes</td>\n",
              "      <td>SP</td>\n",
              "      <td>0.0</td>\n",
              "      <td>São Paulo</td>\n",
              "    </tr>\n",
              "  </tbody>\n",
              "</table>\n",
              "</div>"
            ],
            "text/plain": [
              "                            nome       cgccpf  ... total_captado  municipio\n",
              "50  Miguel Antônio Testa Barella  ***467288**  ...  0.0           São Paulo\n",
              "90  Cia da Lua de Tetro Infantil  ***467288**  ...  0.0           Santos   \n",
              "11  Peticia Carvalho de Moraes    ***467288**  ...  0.0           São Paulo\n",
              "\n",
              "[3 rows x 7 columns]"
            ]
          },
          "metadata": {
            "tags": []
          },
          "execution_count": 42
        }
      ]
    },
    {
      "cell_type": "code",
      "metadata": {
        "colab": {
          "base_uri": "https://localhost:8080/",
          "height": 140
        },
        "id": "flXS5FGMDmUu",
        "outputId": "0f69f22a-db60-487c-c647-c57b811ee463"
      },
      "source": [
        "df_prop[df_prop['responsavel'].str.contains('Porchat', na=False)]"
      ],
      "execution_count": null,
      "outputs": [
        {
          "output_type": "execute_result",
          "data": {
            "text/html": [
              "<div>\n",
              "<style scoped>\n",
              "    .dataframe tbody tr th:only-of-type {\n",
              "        vertical-align: middle;\n",
              "    }\n",
              "\n",
              "    .dataframe tbody tr th {\n",
              "        vertical-align: top;\n",
              "    }\n",
              "\n",
              "    .dataframe thead th {\n",
              "        text-align: right;\n",
              "    }\n",
              "</style>\n",
              "<table border=\"1\" class=\"dataframe\">\n",
              "  <thead>\n",
              "    <tr style=\"text-align: right;\">\n",
              "      <th></th>\n",
              "      <th>nome</th>\n",
              "      <th>cgccpf</th>\n",
              "      <th>tipo_pessoa</th>\n",
              "      <th>responsavel</th>\n",
              "      <th>UF</th>\n",
              "      <th>total_captado</th>\n",
              "      <th>municipio</th>\n",
              "    </tr>\n",
              "  </thead>\n",
              "  <tbody>\n",
              "    <tr>\n",
              "      <th>21</th>\n",
              "      <td>Fondo Filmes LTDA</td>\n",
              "      <td>09504236000130</td>\n",
              "      <td>juridica</td>\n",
              "      <td>Fábio Porchat de Assis</td>\n",
              "      <td>RJ</td>\n",
              "      <td>0.0</td>\n",
              "      <td>Rio de Janeiro</td>\n",
              "    </tr>\n",
              "    <tr>\n",
              "      <th>16</th>\n",
              "      <td>FÁBIO PORCHAT DE ASSIS PRODUÇÕES LTDA-ME</td>\n",
              "      <td>19028036000101</td>\n",
              "      <td>juridica</td>\n",
              "      <td>Fábio Porchat de Assis</td>\n",
              "      <td>SP</td>\n",
              "      <td>224145.0</td>\n",
              "      <td>São Paulo</td>\n",
              "    </tr>\n",
              "  </tbody>\n",
              "</table>\n",
              "</div>"
            ],
            "text/plain": [
              "                                        nome  ...       municipio\n",
              "21  Fondo Filmes LTDA                         ...  Rio de Janeiro\n",
              "16  FÁBIO PORCHAT DE ASSIS PRODUÇÕES LTDA-ME  ...  São Paulo     \n",
              "\n",
              "[2 rows x 7 columns]"
            ]
          },
          "metadata": {
            "tags": []
          },
          "execution_count": 77
        }
      ]
    },
    {
      "cell_type": "code",
      "metadata": {
        "colab": {
          "base_uri": "https://localhost:8080/"
        },
        "id": "QMUqdv16Wy9K",
        "outputId": "03804535-ff45-4e90-8fa9-7edc126de91c"
      },
      "source": [
        "df_prop.cgccpf.value_counts().head(10)"
      ],
      "execution_count": null,
      "outputs": [
        {
          "output_type": "execute_result",
          "data": {
            "text/plain": [
              "***985548**    3\n",
              "***467288**    3\n",
              "***233841**    3\n",
              "***027148**    3\n",
              "***218626**    3\n",
              "***762609**    3\n",
              "***448818**    3\n",
              "***612643**    3\n",
              "***130647**    3\n",
              "***742598**    3\n",
              "Name: cgccpf, dtype: int64"
            ]
          },
          "metadata": {
            "tags": []
          },
          "execution_count": 95
        }
      ]
    }
  ]
}