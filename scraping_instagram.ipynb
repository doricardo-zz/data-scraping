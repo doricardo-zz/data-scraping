{
  "nbformat": 4,
  "nbformat_minor": 0,
  "metadata": {
    "colab": {
      "name": "scraping-instagram.ipynb",
      "provenance": [],
      "collapsed_sections": []
    },
    "kernelspec": {
      "name": "python3",
      "display_name": "Python 3"
    }
  },
  "cells": [
    {
      "cell_type": "markdown",
      "metadata": {
        "id": "mYMMeD7PBXIR"
      },
      "source": [
        "#Instagram Public Post Scraper\n",
        "Instagram-scraper is an application written in Python3 that scrapes and downloads instagram posts for puv Use responsibly.\n",
        "\n"
      ]
    },
    {
      "cell_type": "markdown",
      "metadata": {
        "id": "ExHm2Lg2BjxZ"
      },
      "source": [
        "##Necessary Libraries\n",
        "This program was written in the language Python3 on Google Colab. Make sure the following are available for the program to run properly:\n",
        "- Selenium (3.141.0+)\n",
        "- chromium-chromedriver"
      ]
    },
    {
      "cell_type": "code",
      "metadata": {
        "id": "gCTxXxmmyVi2",
        "colab": {
          "base_uri": "https://localhost:8080/"
        },
        "outputId": "9f3308d1-d99c-4748-8fc2-450251ed3a57"
      },
      "source": [
        "!pip3 install selenium\n",
        "!pip install selenium\n",
        "!apt-get update # to update ubuntu to correctly run apt install\n",
        "!apt install chromium-chromedriver\n",
        "!cp /usr/lib/chromium-browser/chromedriver /usr/bin\n",
        "\n",
        "import sys\n",
        "import time \n",
        "import selenium \n",
        "\n",
        "sys.path.insert(0,'/usr/lib/chromium-browser/chromedriver')\n",
        "print(\"selenium Version = \", selenium.__version__)"
      ],
      "execution_count": null,
      "outputs": [
        {
          "output_type": "stream",
          "text": [
            "Collecting selenium\n",
            "\u001b[?25l  Downloading https://files.pythonhosted.org/packages/80/d6/4294f0b4bce4de0abf13e17190289f9d0613b0a44e5dd6a7f5ca98459853/selenium-3.141.0-py2.py3-none-any.whl (904kB)\n",
            "\r\u001b[K     |▍                               | 10kB 13.4MB/s eta 0:00:01\r\u001b[K     |▊                               | 20kB 18.7MB/s eta 0:00:01\r\u001b[K     |█                               | 30kB 10.5MB/s eta 0:00:01\r\u001b[K     |█▌                              | 40kB 8.1MB/s eta 0:00:01\r\u001b[K     |█▉                              | 51kB 5.1MB/s eta 0:00:01\r\u001b[K     |██▏                             | 61kB 5.7MB/s eta 0:00:01\r\u001b[K     |██▌                             | 71kB 5.5MB/s eta 0:00:01\r\u001b[K     |███                             | 81kB 6.1MB/s eta 0:00:01\r\u001b[K     |███▎                            | 92kB 5.8MB/s eta 0:00:01\r\u001b[K     |███▋                            | 102kB 6.3MB/s eta 0:00:01\r\u001b[K     |████                            | 112kB 6.3MB/s eta 0:00:01\r\u001b[K     |████▍                           | 122kB 6.3MB/s eta 0:00:01\r\u001b[K     |████▊                           | 133kB 6.3MB/s eta 0:00:01\r\u001b[K     |█████                           | 143kB 6.3MB/s eta 0:00:01\r\u001b[K     |█████▍                          | 153kB 6.3MB/s eta 0:00:01\r\u001b[K     |█████▉                          | 163kB 6.3MB/s eta 0:00:01\r\u001b[K     |██████▏                         | 174kB 6.3MB/s eta 0:00:01\r\u001b[K     |██████▌                         | 184kB 6.3MB/s eta 0:00:01\r\u001b[K     |██████▉                         | 194kB 6.3MB/s eta 0:00:01\r\u001b[K     |███████▎                        | 204kB 6.3MB/s eta 0:00:01\r\u001b[K     |███████▋                        | 215kB 6.3MB/s eta 0:00:01\r\u001b[K     |████████                        | 225kB 6.3MB/s eta 0:00:01\r\u001b[K     |████████▎                       | 235kB 6.3MB/s eta 0:00:01\r\u001b[K     |████████▊                       | 245kB 6.3MB/s eta 0:00:01\r\u001b[K     |█████████                       | 256kB 6.3MB/s eta 0:00:01\r\u001b[K     |█████████▍                      | 266kB 6.3MB/s eta 0:00:01\r\u001b[K     |█████████▉                      | 276kB 6.3MB/s eta 0:00:01\r\u001b[K     |██████████▏                     | 286kB 6.3MB/s eta 0:00:01\r\u001b[K     |██████████▌                     | 296kB 6.3MB/s eta 0:00:01\r\u001b[K     |██████████▉                     | 307kB 6.3MB/s eta 0:00:01\r\u001b[K     |███████████▎                    | 317kB 6.3MB/s eta 0:00:01\r\u001b[K     |███████████▋                    | 327kB 6.3MB/s eta 0:00:01\r\u001b[K     |████████████                    | 337kB 6.3MB/s eta 0:00:01\r\u001b[K     |████████████▎                   | 348kB 6.3MB/s eta 0:00:01\r\u001b[K     |████████████▊                   | 358kB 6.3MB/s eta 0:00:01\r\u001b[K     |█████████████                   | 368kB 6.3MB/s eta 0:00:01\r\u001b[K     |█████████████▍                  | 378kB 6.3MB/s eta 0:00:01\r\u001b[K     |█████████████▊                  | 389kB 6.3MB/s eta 0:00:01\r\u001b[K     |██████████████▏                 | 399kB 6.3MB/s eta 0:00:01\r\u001b[K     |██████████████▌                 | 409kB 6.3MB/s eta 0:00:01\r\u001b[K     |██████████████▉                 | 419kB 6.3MB/s eta 0:00:01\r\u001b[K     |███████████████▏                | 430kB 6.3MB/s eta 0:00:01\r\u001b[K     |███████████████▋                | 440kB 6.3MB/s eta 0:00:01\r\u001b[K     |████████████████                | 450kB 6.3MB/s eta 0:00:01\r\u001b[K     |████████████████▎               | 460kB 6.3MB/s eta 0:00:01\r\u001b[K     |████████████████▋               | 471kB 6.3MB/s eta 0:00:01\r\u001b[K     |█████████████████               | 481kB 6.3MB/s eta 0:00:01\r\u001b[K     |█████████████████▍              | 491kB 6.3MB/s eta 0:00:01\r\u001b[K     |█████████████████▊              | 501kB 6.3MB/s eta 0:00:01\r\u001b[K     |██████████████████▏             | 512kB 6.3MB/s eta 0:00:01\r\u001b[K     |██████████████████▌             | 522kB 6.3MB/s eta 0:00:01\r\u001b[K     |██████████████████▉             | 532kB 6.3MB/s eta 0:00:01\r\u001b[K     |███████████████████▏            | 542kB 6.3MB/s eta 0:00:01\r\u001b[K     |███████████████████▋            | 552kB 6.3MB/s eta 0:00:01\r\u001b[K     |████████████████████            | 563kB 6.3MB/s eta 0:00:01\r\u001b[K     |████████████████████▎           | 573kB 6.3MB/s eta 0:00:01\r\u001b[K     |████████████████████▋           | 583kB 6.3MB/s eta 0:00:01\r\u001b[K     |█████████████████████           | 593kB 6.3MB/s eta 0:00:01\r\u001b[K     |█████████████████████▍          | 604kB 6.3MB/s eta 0:00:01\r\u001b[K     |█████████████████████▊          | 614kB 6.3MB/s eta 0:00:01\r\u001b[K     |██████████████████████          | 624kB 6.3MB/s eta 0:00:01\r\u001b[K     |██████████████████████▌         | 634kB 6.3MB/s eta 0:00:01\r\u001b[K     |██████████████████████▉         | 645kB 6.3MB/s eta 0:00:01\r\u001b[K     |███████████████████████▏        | 655kB 6.3MB/s eta 0:00:01\r\u001b[K     |███████████████████████▌        | 665kB 6.3MB/s eta 0:00:01\r\u001b[K     |████████████████████████        | 675kB 6.3MB/s eta 0:00:01\r\u001b[K     |████████████████████████▎       | 686kB 6.3MB/s eta 0:00:01\r\u001b[K     |████████████████████████▋       | 696kB 6.3MB/s eta 0:00:01\r\u001b[K     |█████████████████████████       | 706kB 6.3MB/s eta 0:00:01\r\u001b[K     |█████████████████████████▍      | 716kB 6.3MB/s eta 0:00:01\r\u001b[K     |█████████████████████████▊      | 727kB 6.3MB/s eta 0:00:01\r\u001b[K     |██████████████████████████      | 737kB 6.3MB/s eta 0:00:01\r\u001b[K     |██████████████████████████▍     | 747kB 6.3MB/s eta 0:00:01\r\u001b[K     |██████████████████████████▉     | 757kB 6.3MB/s eta 0:00:01\r\u001b[K     |███████████████████████████▏    | 768kB 6.3MB/s eta 0:00:01\r\u001b[K     |███████████████████████████▌    | 778kB 6.3MB/s eta 0:00:01\r\u001b[K     |████████████████████████████    | 788kB 6.3MB/s eta 0:00:01\r\u001b[K     |████████████████████████████▎   | 798kB 6.3MB/s eta 0:00:01\r\u001b[K     |████████████████████████████▋   | 808kB 6.3MB/s eta 0:00:01\r\u001b[K     |█████████████████████████████   | 819kB 6.3MB/s eta 0:00:01\r\u001b[K     |█████████████████████████████▍  | 829kB 6.3MB/s eta 0:00:01\r\u001b[K     |█████████████████████████████▊  | 839kB 6.3MB/s eta 0:00:01\r\u001b[K     |██████████████████████████████  | 849kB 6.3MB/s eta 0:00:01\r\u001b[K     |██████████████████████████████▍ | 860kB 6.3MB/s eta 0:00:01\r\u001b[K     |██████████████████████████████▉ | 870kB 6.3MB/s eta 0:00:01\r\u001b[K     |███████████████████████████████▏| 880kB 6.3MB/s eta 0:00:01\r\u001b[K     |███████████████████████████████▌| 890kB 6.3MB/s eta 0:00:01\r\u001b[K     |███████████████████████████████▉| 901kB 6.3MB/s eta 0:00:01\r\u001b[K     |████████████████████████████████| 911kB 6.3MB/s \n",
            "\u001b[?25hRequirement already satisfied: urllib3 in /usr/local/lib/python3.6/dist-packages (from selenium) (1.24.3)\n",
            "Installing collected packages: selenium\n",
            "Successfully installed selenium-3.141.0\n",
            "Requirement already satisfied: selenium in /usr/local/lib/python3.6/dist-packages (3.141.0)\n",
            "Requirement already satisfied: urllib3 in /usr/local/lib/python3.6/dist-packages (from selenium) (1.24.3)\n",
            "Get:1 https://cloud.r-project.org/bin/linux/ubuntu bionic-cran40/ InRelease [3,626 B]\n",
            "Ign:2 https://developer.download.nvidia.com/compute/cuda/repos/ubuntu1804/x86_64  InRelease\n",
            "Ign:3 https://developer.download.nvidia.com/compute/machine-learning/repos/ubuntu1804/x86_64  InRelease\n",
            "Hit:4 https://developer.download.nvidia.com/compute/cuda/repos/ubuntu1804/x86_64  Release\n",
            "Hit:5 https://developer.download.nvidia.com/compute/machine-learning/repos/ubuntu1804/x86_64  Release\n",
            "Get:6 http://ppa.launchpad.net/c2d4u.team/c2d4u4.0+/ubuntu bionic InRelease [15.9 kB]\n",
            "Get:7 http://security.ubuntu.com/ubuntu bionic-security InRelease [88.7 kB]\n",
            "Hit:8 http://archive.ubuntu.com/ubuntu bionic InRelease\n",
            "Get:9 http://archive.ubuntu.com/ubuntu bionic-updates InRelease [88.7 kB]\n",
            "Hit:10 http://ppa.launchpad.net/cran/libgit2/ubuntu bionic InRelease\n",
            "Hit:12 http://ppa.launchpad.net/graphics-drivers/ppa/ubuntu bionic InRelease\n",
            "Get:13 http://archive.ubuntu.com/ubuntu bionic-backports InRelease [74.6 kB]\n",
            "Get:15 http://ppa.launchpad.net/c2d4u.team/c2d4u4.0+/ubuntu bionic/main Sources [1,724 kB]\n",
            "Get:16 http://security.ubuntu.com/ubuntu bionic-security/universe amd64 Packages [1,386 kB]\n",
            "Get:17 http://archive.ubuntu.com/ubuntu bionic-updates/main amd64 Packages [2,352 kB]\n",
            "Get:18 http://ppa.launchpad.net/c2d4u.team/c2d4u4.0+/ubuntu bionic/main amd64 Packages [882 kB]\n",
            "Get:19 http://security.ubuntu.com/ubuntu bionic-security/main amd64 Packages [1,919 kB]\n",
            "Get:20 http://archive.ubuntu.com/ubuntu bionic-updates/universe amd64 Packages [2,157 kB]\n",
            "Fetched 10.7 MB in 3s (3,386 kB/s)\n",
            "Reading package lists... Done\n",
            "Reading package lists... Done\n",
            "Building dependency tree       \n",
            "Reading state information... Done\n",
            "The following additional packages will be installed:\n",
            "  chromium-browser chromium-browser-l10n chromium-codecs-ffmpeg-extra\n",
            "Suggested packages:\n",
            "  webaccounts-chromium-extension unity-chromium-extension adobe-flashplugin\n",
            "The following NEW packages will be installed:\n",
            "  chromium-browser chromium-browser-l10n chromium-chromedriver\n",
            "  chromium-codecs-ffmpeg-extra\n",
            "0 upgraded, 4 newly installed, 0 to remove and 20 not upgraded.\n",
            "Need to get 81.0 MB of archives.\n",
            "After this operation, 273 MB of additional disk space will be used.\n",
            "Get:1 http://archive.ubuntu.com/ubuntu bionic-updates/universe amd64 chromium-codecs-ffmpeg-extra amd64 87.0.4280.66-0ubuntu0.18.04.1 [1,122 kB]\n",
            "Get:2 http://archive.ubuntu.com/ubuntu bionic-updates/universe amd64 chromium-browser amd64 87.0.4280.66-0ubuntu0.18.04.1 [71.7 MB]\n",
            "Get:3 http://archive.ubuntu.com/ubuntu bionic-updates/universe amd64 chromium-browser-l10n all 87.0.4280.66-0ubuntu0.18.04.1 [3,716 kB]\n",
            "Get:4 http://archive.ubuntu.com/ubuntu bionic-updates/universe amd64 chromium-chromedriver amd64 87.0.4280.66-0ubuntu0.18.04.1 [4,488 kB]\n",
            "Fetched 81.0 MB in 4s (18.9 MB/s)\n",
            "Selecting previously unselected package chromium-codecs-ffmpeg-extra.\n",
            "(Reading database ... 146456 files and directories currently installed.)\n",
            "Preparing to unpack .../chromium-codecs-ffmpeg-extra_87.0.4280.66-0ubuntu0.18.04.1_amd64.deb ...\n",
            "Unpacking chromium-codecs-ffmpeg-extra (87.0.4280.66-0ubuntu0.18.04.1) ...\n",
            "Selecting previously unselected package chromium-browser.\n",
            "Preparing to unpack .../chromium-browser_87.0.4280.66-0ubuntu0.18.04.1_amd64.deb ...\n",
            "Unpacking chromium-browser (87.0.4280.66-0ubuntu0.18.04.1) ...\n",
            "Selecting previously unselected package chromium-browser-l10n.\n",
            "Preparing to unpack .../chromium-browser-l10n_87.0.4280.66-0ubuntu0.18.04.1_all.deb ...\n",
            "Unpacking chromium-browser-l10n (87.0.4280.66-0ubuntu0.18.04.1) ...\n",
            "Selecting previously unselected package chromium-chromedriver.\n",
            "Preparing to unpack .../chromium-chromedriver_87.0.4280.66-0ubuntu0.18.04.1_amd64.deb ...\n",
            "Unpacking chromium-chromedriver (87.0.4280.66-0ubuntu0.18.04.1) ...\n",
            "Setting up chromium-codecs-ffmpeg-extra (87.0.4280.66-0ubuntu0.18.04.1) ...\n",
            "Setting up chromium-browser (87.0.4280.66-0ubuntu0.18.04.1) ...\n",
            "update-alternatives: using /usr/bin/chromium-browser to provide /usr/bin/x-www-browser (x-www-browser) in auto mode\n",
            "update-alternatives: using /usr/bin/chromium-browser to provide /usr/bin/gnome-www-browser (gnome-www-browser) in auto mode\n",
            "Setting up chromium-chromedriver (87.0.4280.66-0ubuntu0.18.04.1) ...\n",
            "Setting up chromium-browser-l10n (87.0.4280.66-0ubuntu0.18.04.1) ...\n",
            "Processing triggers for hicolor-icon-theme (0.17-2) ...\n",
            "Processing triggers for mime-support (3.60ubuntu1) ...\n",
            "Processing triggers for man-db (2.8.3-2ubuntu0.1) ...\n",
            "cp: '/usr/lib/chromium-browser/chromedriver' and '/usr/bin/chromedriver' are the same file\n",
            "selenium Version =  3.141.0\n"
          ],
          "name": "stdout"
        }
      ]
    },
    {
      "cell_type": "code",
      "metadata": {
        "id": "w00dkB5TyXf4",
        "colab": {
          "base_uri": "https://localhost:8080/"
        },
        "outputId": "df25d95a-8858-47c4-ee1b-6fe7c9a0966d"
      },
      "source": [
        "from selenium import webdriver\n",
        "chrome_options = webdriver.ChromeOptions()\n",
        "chrome_options.add_argument('--headless')\n",
        "chrome_options.add_argument('--no-sandbox')\n",
        "chrome_options.add_argument('--disable-dev-shm-usage')\n",
        "browser = webdriver.Chrome('chromedriver',chrome_options=chrome_options)\n",
        "\n",
        "hashtag='food'\n",
        "# browser.get('https://www.instagram.com/explore/tags/'+hashtag)\n",
        "Pagelength = browser.execute_script(\"window.scrollTo(0, document.body.scrollHeight);\")"
      ],
      "execution_count": null,
      "outputs": [
        {
          "output_type": "stream",
          "text": [
            "/usr/local/lib/python3.6/dist-packages/ipykernel_launcher.py:6: DeprecationWarning: use options instead of chrome_options\n",
            "  \n"
          ],
          "name": "stderr"
        }
      ]
    },
    {
      "cell_type": "code",
      "metadata": {
        "id": "xVbtcusFCctP"
      },
      "source": [
        "import time\n",
        "import csv\n",
        "import re\n",
        "from selenium import webdriver\n",
        "from selenium.webdriver.common.keys import Keys\n",
        "\n",
        "chrome_options = webdriver.ChromeOptions()\n",
        "chrome_options.add_argument('--headless')\n",
        "chrome_options.add_argument('--no-sandbox')\n",
        "chrome_options.add_argument('--disable-dev-shm-usage')"
      ],
      "execution_count": null,
      "outputs": []
    },
    {
      "cell_type": "code",
      "metadata": {
        "id": "H2GypIMw3VAK"
      },
      "source": [
        "class InstagramBot():\n",
        "    def __init__(self):\n",
        "      self.chrome_options = webdriver.ChromeOptions()\n",
        "      self.browser = webdriver.Chrome('chromedriver',chrome_options=chrome_options)\n",
        "      self.csvScrapedData = [[\"description\", \"weight\", \"location\", \"user\", \"time\", \"image\"]]\n",
        "      self.hashtag = \"\"\n",
        "      \n",
        "    def signIn(self, email, password):\n",
        "      print(\"Signing In\")\n",
        "      self.email = email\n",
        "      self.password = password\n",
        "      self.browser.get('https://www.instagram.com/accounts/login/')\n",
        "      emailInput = self.browser.find_elements_by_css_selector('form input')[0]\n",
        "      passwordInput = self.browser.find_elements_by_css_selector('form input')[1]\n",
        "      emailInput.send_keys(self.email)\n",
        "      passwordInput.send_keys(self.password)\n",
        "      passwordInput.send_keys(Keys.ENTER)\n",
        "      time.sleep(2)\n",
        "    \n",
        "    def scrape(self, url):\n",
        "      self.browser.get(url)\n",
        "      self.browser.execute_script(\"window.scrollTo(0, document.body.scrollHeight);\")\n",
        "      elements = self.browser.find_elements_by_xpath(\"//div[@class='v1Nh3 kIKUG  _bz0w']\")\n",
        "      hrefElements = self.browser.find_elements_by_xpath(\"//div[@class='v1Nh3 kIKUG  _bz0w']/a\")\n",
        "      elements_link = [x.get_attribute(\"href\") for x in hrefElements]\n",
        "      for elements in elements_link:\n",
        "        self.scrapePost(elements)\n",
        " \n",
        "    def scrapePost(self, url):\n",
        "      self.browser.get(url)\n",
        "      print(\"Scraping Post: \" + url)\n",
        "      try: \n",
        "        location_element = self.browser.find_element_by_xpath(\"//a[@class='O4GlU']\").text\n",
        "        location_element = location_element.replace(\",\", \" \")\n",
        "        user_element = self.browser.find_element_by_xpath(\"//a[@class='FPmhX notranslate nJAzx']\")\n",
        "        user_element_text = user_element.text\n",
        "        user_element_text = user_element_text.replace(\",\", \" \")\n",
        "        user_element_link = user_element.get_attribute(\"href\")\n",
        "        try:\n",
        "          desc_element = self.browser.find_element_by_xpath(\"//div[@class='C4VMK']/span\")\n",
        "          desc_text = desc_element.text\n",
        "          desc_text = desc_text.replace(\"\\n\", \" \")\n",
        "          desc_text = desc_text.replace(\",\", \" \")\n",
        "        except:\n",
        "          desc_text = \" \"\n",
        "          pass\n",
        "        try: \n",
        "          timestamp_element = self.browser.find_element_by_xpath(\"//div[@class='k_Q0X NnvRN']/a/time\")\n",
        "          timestamp = timestamp_element.get_attribute(\"datetime\")\n",
        "          timestamp = timestamp.replace(\"\\n\", \" \")\n",
        "          timestamp = timestamp.replace(\",\", \" \")\n",
        "        except:\n",
        "          timestamp = \" \"\n",
        "          pass    \n",
        "        try:\n",
        "          likes_element = self.browser.find_element_by_xpath(\"//a[@class='zV_Nj']/span\").text\n",
        "          likes_element = likes_element.replace(\",\", \"\")\n",
        "          no_of_likes = int(likes_element)\n",
        "          followerCount = self.findFollowerCount(user_element_link)\n",
        "          weight = no_of_likes/followerCount\n",
        "        except:\n",
        "          weight = 0\n",
        "          pass\n",
        "        image_url = self.findImage()\n",
        "        self.scrapedData = [desc_text, weight ,location_element, user_element_text, timestamp, image_url]\n",
        "        print(self.scrapedData)\n",
        "        self.csvScrapedData.append(self.scrapedData)\n",
        "      except:\n",
        "        pass\n",
        "      \n",
        "       \n",
        "    def findImage(self):\n",
        "      image_element = self.browser.find_element_by_xpath(\"//div[@class='KL4Bh']/img\")\n",
        "      image_element_link = image_element.get_attribute(\"src\")\n",
        "      return image_element_link\n",
        "\n",
        "   \n",
        "    def findFollowerCount(self, userURL):\n",
        "      self.browser.get(userURL)\n",
        "      followers_count_int = 0 \n",
        "      try:\n",
        "        count_element = self.browser.find_elements_by_xpath(\"//span[@class='g47SY ']\")\n",
        "        followers_count = count_element[1].get_attribute(\"title\")\n",
        "        followers_count = followers_count.replace(\",\", \"\")\n",
        "        followers_count_int = int(followers_count)\n",
        "      except:\n",
        "          pass    \n",
        "      return followers_count_int\n",
        "    \n",
        "    \n",
        "    def scrapeWithHashtags(self, hashtags):\n",
        "      for hashtag in hashtags:\n",
        "        self.hashtag = hashtag\n",
        "        print(\"-----------Scraping the hashtag '\" + hashtag +\"' -----------\")\n",
        "        url = 'https://www.instagram.com/explore/tags/' + hashtag\n",
        "        self.scrape(url)\n",
        "        \n",
        "    def exportCSVFile(self):\n",
        "      csv.register_dialect('myDialect', quoting=csv.QUOTE_ALL, skipinitialspace=True)\n",
        "      with open('csvScrapedData.csv', 'w') as f:\n",
        "        writer = csv.writer(f, dialect='myDialect')\n",
        "        for row in self.csvScrapedData:\n",
        "          writer.writerow(row)\n",
        "      f.close()\n",
        "      \n"
      ],
      "execution_count": null,
      "outputs": []
    },
    {
      "cell_type": "code",
      "metadata": {
        "id": "sxQ3i-0llcDd"
      },
      "source": [
        "scrape_type = input(\"Do you want to scrape any private posts [y/n]:\\n\")\n",
        "hashtags = ['dog']\n",
        "bot = InstagramBot()\n",
        "\n",
        "if scrape_type == \"y\":\n",
        "  username = input(\"What's your email?\\n\")\n",
        "  password = input(\"What's your password?\\n\")\n",
        "  bot.signIn(username, password)\n",
        "elif scrape_type == \"n\":\n",
        "  pass\n",
        "else:\n",
        "  sys.exit(\"No valid Input\")\n",
        "\n",
        "bot.scrapeWithHashtags(hashtags)\n",
        "bot.exportCSVFile()\n"
      ],
      "execution_count": null,
      "outputs": []
    },
    {
      "cell_type": "code",
      "metadata": {
        "id": "rYwnC6BebCPB"
      },
      "source": [
        ""
      ],
      "execution_count": null,
      "outputs": []
    }
  ]
}